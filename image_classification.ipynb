{
 "cells": [
  {
   "cell_type": "markdown",
   "metadata": {
    "collapsed": true
   },
   "source": [
    "# Image Classification\n",
    "In this project, you'll classify images from the [CIFAR-10 dataset](https://www.cs.toronto.edu/~kriz/cifar.html).  The dataset consists of airplanes, dogs, cats, and other objects. You'll preprocess the images, then train a convolutional neural network on all the samples. The images need to be normalized and the labels need to be one-hot encoded.  You'll get to apply what you learned and build a convolutional, max pooling, dropout, and fully connected layers.  At the end, you'll get to see your neural network's predictions on the sample images.\n",
    "## Get the Data\n",
    "Run the following cell to download the [CIFAR-10 dataset for python](https://www.cs.toronto.edu/~kriz/cifar-10-python.tar.gz)."
   ]
  },
  {
   "cell_type": "code",
   "execution_count": 16,
   "metadata": {},
   "outputs": [
    {
     "name": "stdout",
     "output_type": "stream",
     "text": [
      "All files found!\n"
     ]
    }
   ],
   "source": [
    "from urllib.request import urlretrieve\n",
    "from os.path import isfile, isdir\n",
    "from tqdm import tqdm\n",
    "import problem_unittests as tests\n",
    "import tarfile\n",
    "\n",
    "cifar10_dataset_folder_path = 'cifar-10-batches-py'\n",
    "\n",
    "class DLProgress(tqdm):\n",
    "    last_block = 0\n",
    "\n",
    "    def hook(self, block_num=1, block_size=1, total_size=None):\n",
    "        self.total = total_size\n",
    "        self.update((block_num - self.last_block) * block_size)\n",
    "        self.last_block = block_num\n",
    "\n",
    "if not isfile('cifar-10-python.tar.gz'):\n",
    "    with DLProgress(unit='B', unit_scale=True, miniters=1, desc='CIFAR-10 Dataset') as pbar:\n",
    "        urlretrieve(\n",
    "            'https://www.cs.toronto.edu/~kriz/cifar-10-python.tar.gz',\n",
    "            'cifar-10-python.tar.gz',\n",
    "            pbar.hook)\n",
    "\n",
    "if not isdir(cifar10_dataset_folder_path):\n",
    "    with tarfile.open('cifar-10-python.tar.gz') as tar:\n",
    "        tar.extractall()\n",
    "        tar.close()\n",
    "\n",
    "\n",
    "tests.test_folder_path(cifar10_dataset_folder_path)"
   ]
  },
  {
   "cell_type": "markdown",
   "metadata": {},
   "source": [
    "## Explore the Data\n",
    "The dataset is broken into batches to prevent your machine from running out of memory.  The CIFAR-10 dataset consists of 5 batches, named `data_batch_1`, `data_batch_2`, etc.. Each batch contains the labels and images that are one of the following:\n",
    "\n",
    "* horse\n",
    "* ship\n",
    "* cat\n",
    "* deer\n",
    "* dog\n",
    "* frog\n",
    "* truck\n",
    "* airplane\n",
    "* automobile\n",
    "* bird\n",
    "\n",
    "Understanding a dataset is part of making predictions on the data.  Play around with the code cell below by changing the `batch_id` and `sample_id`. The `batch_id` is the id for a batch (1-5). The `sample_id` is the id for a image and label pair in the batch.\n",
    "\n",
    "Ask yourself \"What are all possible labels?\", \"What is the range of values for the image data?\", \"Are the labels in order or random?\".  Answers to questions like these will help you preprocess the data and end up with better predictions."
   ]
  },
  {
   "cell_type": "code",
   "execution_count": 17,
   "metadata": {},
   "outputs": [
    {
     "name": "stdout",
     "output_type": "stream",
     "text": [
      "\n",
      "Stats of batch 5:\n",
      "Samples: 10000\n",
      "Label Counts: {0: 1014, 1: 1014, 2: 952, 3: 1016, 4: 997, 5: 1025, 6: 980, 7: 977, 8: 1003, 9: 1022}\n",
      "First 20 Labels: [1, 8, 5, 1, 5, 7, 4, 3, 8, 2, 7, 2, 0, 1, 5, 9, 6, 2, 0, 8]\n",
      "\n",
      "Example of Image 1:\n",
      "Image - Min Value: 1 Max Value: 244\n",
      "Image - Shape: (32, 32, 3)\n",
      "Label - Label Id: 8 Name: ship\n"
     ]
    },
    {
     "data": {
      "image/png": "[encoded data removed]",
      "text/plain": [
       "<matplotlib.figure.Figure at 0x1537718cfd0>"
      ]
     },
     "metadata": {
      "image/png": {
       "height": 250,
       "width": 253
      }
     },
     "output_type": "display_data"
    }
   ],
   "source": [
    "%matplotlib inline\n",
    "%config InlineBackend.figure_format = 'retina'\n",
    "\n",
    "import helper\n",
    "import numpy as np\n",
    "import tensorflow as tf\n",
    "\n",
    "# Explore the dataset\n",
    "batch_id = 5\n",
    "sample_id = 1\n",
    "helper.display_stats(cifar10_dataset_folder_path, batch_id, sample_id)"
   ]
  },
  {
   "cell_type": "markdown",
   "metadata": {},
   "source": [
    "Min/Max image values: 0/255\n",
    "\n",
    "----\n",
    "\n",
    "Lables:\n",
    "\n",
    ">0: Airplane\n",
    "\n",
    ">1: Car/Automobile\n",
    "\n",
    ">2: Bird\n",
    "\n",
    ">3: Cat\n",
    "\n",
    ">4: Deer\n",
    "\n",
    ">5: Dog\n",
    "\n",
    ">6: Frog\n",
    "\n",
    ">7: Horse\n",
    "\n",
    ">8: Ship\n",
    "\n",
    ">9: Truck"
   ]
  },
  {
   "cell_type": "markdown",
   "metadata": {},
   "source": [
    "## Implement Preprocess Functions\n",
    "### Normalize\n",
    "In the cell below, implement the `normalize` function to take in image data, `x`, and return it as a normalized Numpy array. The values should be in the range of 0 to 1, inclusive.  The return object should be the same shape as `x`."
   ]
  },
  {
   "cell_type": "code",
   "execution_count": 18,
   "metadata": {},
   "outputs": [
    {
     "name": "stdout",
     "output_type": "stream",
     "text": [
      "Tests Passed\n"
     ]
    }
   ],
   "source": [
    "def normalize(x):\n",
    "    \"\"\"\n",
    "    Normalize a list of sample image data in the range of 0 to 1\n",
    "    : x: List of image data.  The image shape is (32, 32, 3)\n",
    "    : return: Numpy array of normalize data\n",
    "    \"\"\"\n",
    "    # TODO: Implement Function\n",
    "    #print(x)\n",
    "    image_min = 0\n",
    "    image_max = 255\n",
    "       \n",
    "    x = (x - image_min) / (image_max - image_min)\n",
    "    return x\n",
    "\n",
    "\n",
    "\"\"\"\n",
    "BELOW THIS LINE IS A UNITTEST\n",
    "\"\"\"\n",
    "tests.test_normalize(normalize)"
   ]
  },
  {
   "cell_type": "markdown",
   "metadata": {},
   "source": [
    "### One-hot encode\n",
    "Just like the previous code cell, you'll be implementing a function for preprocessing.  This time, you'll implement the `one_hot_encode` function. The input, `x`, are a list of labels.  Implement the function to return the list of labels as One-Hot encoded Numpy array.  The possible values for labels are 0 to 9. The one-hot encoding function should return the same encoding for each value between each call to `one_hot_encode`.  Make sure to save the map of encodings outside the function.\n",
    "\n",
    "**Hint:**\n",
    "\n",
    "\n",
    "Look into LabelBinarizer in the preprocessing module of sklearn."
   ]
  },
  {
   "cell_type": "code",
   "execution_count": 19,
   "metadata": {},
   "outputs": [
    {
     "name": "stdout",
     "output_type": "stream",
     "text": [
      "Tests Passed\n"
     ]
    }
   ],
   "source": [
    "from sklearn.preprocessing import LabelBinarizer\n",
    "\n",
    "def one_hot_encode(x):\n",
    "    \"\"\"\n",
    "    One hot encode a list of sample labels. Return a one-hot encoded vector for each label.\n",
    "    : x: List of sample Labels\n",
    "    : return: Numpy array of one-hot encoded labels\n",
    "    \"\"\"\n",
    "    # TODO: Implement Function\n",
    "    #print(x)\n",
    "#     labels = np.array([[0,0,0,0],\n",
    "#              [1,0,0,0],\n",
    "#              [0,1,0,0],\n",
    "#              [0,0,1,0],\n",
    "#              [0,0,0,1],\n",
    "#              [1,1,0,0],\n",
    "#              [1,0,1,0],\n",
    "#              [1,0,0,1],\n",
    "#              [1,1,1,0],\n",
    "#              [1,1,1,1]])\n",
    "    \n",
    "#     for each_value in x:\n",
    "#         for each_label in range(len(labels)):\n",
    "#             #print(each_value, each_label, labels[each_label])\n",
    "#             if each_value == each_label:\n",
    "#                 each_value = labels[each_label]\n",
    "#                 break\n",
    "#     print(x)\n",
    "\n",
    "\n",
    "    \n",
    "    lb = LabelBinarizer()\n",
    "    lb.fit(np.array(range(0, 10)))\n",
    "#    lb.classes_\n",
    "    x = lb.transform(x)\n",
    "    return x\n",
    "\n",
    "\"\"\"\n",
    "BELOW THIS LINE IS A UNITTEST\n",
    "\"\"\"\n",
    "tests.test_one_hot_encode(one_hot_encode)"
   ]
  },
  {
   "cell_type": "markdown",
   "metadata": {},
   "source": [
    "### Randomize Data\n",
    "As you saw from exploring the data above, the order of the samples are randomized.  It doesn't hurt to randomize it again, but you don't need to for this dataset."
   ]
  },
  {
   "cell_type": "markdown",
   "metadata": {},
   "source": [
    "## Preprocess all the data and save it\n",
    "Running the code cell below will preprocess all the CIFAR-10 data and save it to file. The code below also uses 10% of the training data for validation."
   ]
  },
  {
   "cell_type": "code",
   "execution_count": 20,
   "metadata": {},
   "outputs": [
    {
     "name": "stdout",
     "output_type": "stream",
     "text": [
      "done\n"
     ]
    }
   ],
   "source": [
    "\"\"\"\n",
    "DON'T MODIFY ANYTHING IN THIS CELL\n",
    "\"\"\"\n",
    "# Preprocess Training, Validation, and Testing Data\n",
    "helper.preprocess_and_save_data(cifar10_dataset_folder_path, normalize, one_hot_encode)\n",
    "print(\"done\")"
   ]
  },
  {
   "cell_type": "markdown",
   "metadata": {},
   "source": [
    "# Check Point\n",
    "This is your first checkpoint.  If you ever decide to come back to this notebook or have to restart the notebook, you can start from here.  The preprocessed data has been saved to disk."
   ]
  },
  {
   "cell_type": "code",
   "execution_count": 21,
   "metadata": {},
   "outputs": [
    {
     "name": "stdout",
     "output_type": "stream",
     "text": [
      "done\n"
     ]
    }
   ],
   "source": [
    "\"\"\"\n",
    "BELOW THIS LINE IS A UNITTEST\n",
    "\"\"\"\n",
    "import pickle\n",
    "import problem_unittests as tests\n",
    "import helper\n",
    "\n",
    "# Load the Preprocessed Validation data\n",
    "valid_features, valid_labels = pickle.load(open('preprocess_validation.p', mode='rb'))\n",
    "print('done')"
   ]
  },
  {
   "cell_type": "markdown",
   "metadata": {},
   "source": [
    "## Build the network\n",
    "For the neural network, you'll build each layer into a function.  Most of the code you've seen has been outside of functions. To test your code more thoroughly, we require that you put each layer in a function.  This allows us to give you better feedback and test for simple mistakes using our unittests before you submit your project.\n",
    "\n",
    ">**Note:** If you're finding it hard to dedicate enough time for this course each week, we've provided a small shortcut to this part of the project. In the next couple of problems, you'll have the option to use classes from the [TensorFlow Layers](https://www.tensorflow.org/api_docs/python/tf/layers) or [TensorFlow Layers (contrib)](https://www.tensorflow.org/api_guides/python/contrib.layers) packages to build each layer, except the layers you build in the \"Convolutional and Max Pooling Layer\" section.  TF Layers is similar to Keras's and TFLearn's abstraction to layers, so it's easy to pickup.\n",
    "\n",
    ">However, if you would like to get the most out of this course, try to solve all the problems _without_ using anything from the TF Layers packages. You **can** still use classes from other packages that happen to have the same name as ones you find in TF Layers! For example, instead of using the TF Layers version of the `conv2d` class, [tf.layers.conv2d](https://www.tensorflow.org/api_docs/python/tf/layers/conv2d), you would want to use the TF Neural Network version of `conv2d`, [tf.nn.conv2d](https://www.tensorflow.org/api_docs/python/tf/nn/conv2d). \n",
    "\n",
    "Let's begin!\n",
    "\n",
    "### Input\n",
    "The neural network needs to read the image data, one-hot encoded labels, and dropout keep probability. Implement the following functions\n",
    "* Implement `neural_net_image_input`\n",
    " * Return a [TF Placeholder](https://www.tensorflow.org/api_docs/python/tf/placeholder)\n",
    " * Set the shape using `image_shape` with batch size set to `None`.\n",
    " * Name the TensorFlow placeholder \"x\" using the TensorFlow `name` parameter in the [TF Placeholder](https://www.tensorflow.org/api_docs/python/tf/placeholder).\n",
    "* Implement `neural_net_label_input`\n",
    " * Return a [TF Placeholder](https://www.tensorflow.org/api_docs/python/tf/placeholder)\n",
    " * Set the shape using `n_classes` with batch size set to `None`.\n",
    " * Name the TensorFlow placeholder \"y\" using the TensorFlow `name` parameter in the [TF Placeholder](https://www.tensorflow.org/api_docs/python/tf/placeholder).\n",
    "* Implement `neural_net_keep_prob_input`\n",
    " * Return a [TF Placeholder](https://www.tensorflow.org/api_docs/python/tf/placeholder) for dropout keep probability.\n",
    " * Name the TensorFlow placeholder \"keep_prob\" using the TensorFlow `name` parameter in the [TF Placeholder](https://www.tensorflow.org/api_docs/python/tf/placeholder).\n",
    "\n",
    "These names will be used at the end of the project to load your saved model.\n",
    "\n",
    "Note: `None` for shapes in TensorFlow allow for a dynamic size."
   ]
  },
  {
   "cell_type": "code",
   "execution_count": 22,
   "metadata": {},
   "outputs": [
    {
     "name": "stdout",
     "output_type": "stream",
     "text": [
      "Image Input Tests Passed.\n",
      "Label Input Tests Passed.\n",
      "Keep Prob Tests Passed.\n"
     ]
    }
   ],
   "source": [
    "import tensorflow as tf\n",
    "\n",
    "def neural_net_image_input(image_shape):\n",
    "    \"\"\"\n",
    "    Return a Tensor for a batch of image input\n",
    "    : image_shape: Shape of the images\n",
    "    : return: Tensor for image input.\n",
    "    \"\"\"\n",
    "    # TODO: Implement Function\n",
    "    x = tf.placeholder(tf.float32, shape=[None, image_shape[0], image_shape[1], image_shape[2]], name=\"x\")\n",
    "    return x\n",
    "\n",
    "\n",
    "def neural_net_label_input(n_classes):\n",
    "    \"\"\"\n",
    "    Return a Tensor for a batch of label input\n",
    "    : n_classes: Number of classes\n",
    "    : return: Tensor for label input.\n",
    "    \"\"\"\n",
    "    # TODO: Implement Function\n",
    "    y = tf.placeholder(tf.float32, shape=[None, n_classes], name=\"y\")\n",
    "    return y\n",
    "\n",
    "\n",
    "def neural_net_keep_prob_input():\n",
    "    \"\"\"\n",
    "    Return a Tensor for keep probability\n",
    "    : return: Tensor for keep probability.\n",
    "    \"\"\"\n",
    "    # TODO: Implement Function\n",
    "    keep_prob = tf.placeholder(tf.float32, shape=None, name=\"keep_prob\")\n",
    "    return keep_prob\n",
    "\n",
    "\"\"\"\n",
    "BELOW THIS LINE IS A UNITTEST\n",
    "\"\"\"\n",
    "tf.reset_default_graph()\n",
    "tests.test_nn_image_inputs(neural_net_image_input)\n",
    "tests.test_nn_label_inputs(neural_net_label_input)\n",
    "tests.test_nn_keep_prob_inputs(neural_net_keep_prob_input)"
   ]
  },
  {
   "cell_type": "markdown",
   "metadata": {},
   "source": [
    "### Convolution and Max Pooling Layer\n",
    "Convolution layers have a lot of success with images. For this code cell, you should implement the function `conv2d_maxpool` to apply convolution then max pooling:\n",
    "* Create the weight and bias using `conv_ksize`, `conv_num_outputs` and the shape of `x_tensor`.\n",
    "* Apply a convolution to `x_tensor` using weight and `conv_strides`.\n",
    " * We recommend you use same padding, but you're welcome to use any padding.\n",
    "* Add bias\n",
    "* Add a nonlinear activation to the convolution.\n",
    "* Apply Max Pooling using `pool_ksize` and `pool_strides`.\n",
    " * We recommend you use same padding, but you're welcome to use any padding.\n",
    "\n",
    "**Note:** You **can't** use [TensorFlow Layers](https://www.tensorflow.org/api_docs/python/tf/layers) or [TensorFlow Layers (contrib)](https://www.tensorflow.org/api_guides/python/contrib.layers) for **this** layer, but you can still use TensorFlow's [Neural Network](https://www.tensorflow.org/api_docs/python/tf/nn) package. You may still use the shortcut option for all the **other** layers.\n",
    "\n",
    "** Hint: **\n",
    "\n",
    "When unpacking values as an argument in Python, look into the [unpacking](https://docs.python.org/3/tutorial/controlflow.html#unpacking-argument-lists) operator. "
   ]
  },
  {
   "cell_type": "code",
   "execution_count": 23,
   "metadata": {
    "scrolled": true
   },
   "outputs": [
    {
     "name": "stdout",
     "output_type": "stream",
     "text": [
      "Tests Passed\n"
     ]
    }
   ],
   "source": [
    "import math\n",
    "\n",
    "def conv2d_maxpool(x_tensor, conv_num_outputs, conv_ksize, conv_strides, pool_ksize, pool_strides):\n",
    "    \"\"\"\n",
    "    Apply convolution then max pooling to x_tensor\n",
    "    :param x_tensor: TensorFlow Tensor\n",
    "    :param conv_num_outputs: Number of outputs for the convolutional layer\n",
    "    :param conv_ksize: kernal size 2-D Tuple for the convolutional layer\n",
    "    :param conv_strides: Stride 2-D Tuple for convolution\n",
    "    :param pool_ksize: kernal size 2-D Tuple for pool\n",
    "    :param pool_strides: Stride 2-D Tuple for pool\n",
    "    : return: A tensor that represents convolution and max pooling of x_tensor\n",
    "    \"\"\"\n",
    "    # TODO: Implement Function\n",
    "\n",
    "    #print(x_tensor)\n",
    "    #print(\"conv_num_outputs, \", conv_num_outputs)\n",
    "    #print(\"conv_kernal_size, \", conv_ksize)\n",
    "    #print(\"conv_strides    , \", conv_strides)\n",
    "    #print(\"pool_kernal_size, \", pool_ksize)\n",
    "    #print(\"pool_strides    , \", pool_strides)\n",
    "    \n",
    "    input_depth = x_tensor.get_shape().as_list()\n",
    "    filter_shape = [conv_ksize[0], conv_ksize[1], input_depth[3], conv_num_outputs]\n",
    "    #print(filter_shape)\n",
    "    \n",
    "    # The shape of the filter weight is (height, width, input_depth, output_depth)\n",
    "    # The shape of the filter bias is (output_depth,)\n",
    "    # new_height = (input_height - filter_height + 2 * P)/S + 1\n",
    "    # new_width = (input_width - filter_width + 2 * P)/S + 1\n",
    "\n",
    "    #x_tensor = tf.to_float64(x_tensor)\n",
    "    #print(x_tensor)\n",
    "    \n",
    "    output_dim = conv_num_outputs\n",
    "    \n",
    "    std = math.sqrt( 2/ (conv_ksize[0] * conv_ksize[1] * input_depth[3]) ) #sqrt(2/(filterHeight*filterWidth*filterDepth))\n",
    "\n",
    "    #Vars = weight and bias\n",
    "    weight = tf.Variable(tf.truncated_normal(filter_shape, stddev=std))\n",
    "    #print(weight)\n",
    "    bias = tf.Variable(tf.zeros(output_dim))\n",
    "    #print(bias)\n",
    "    \n",
    "    # print(weight)\n",
    "    conv_stride_shape = [1, conv_strides[0], conv_strides[1], 1]\n",
    "    conv = tf.nn.conv2d(x_tensor, filter=weight, strides=conv_stride_shape, padding=\"SAME\", use_cudnn_on_gpu=True)\n",
    "    \n",
    "    biased = tf.nn.bias_add(conv, bias)\n",
    "    \n",
    "    activated = tf.nn.relu(biased)\n",
    "    \n",
    "    max_pool_kernal_shape = [1, pool_ksize[0], pool_ksize[1], 1]\n",
    "    max_pool_stride_shape = [1, pool_strides[0], pool_strides[1], 1]\n",
    "    pooled = tf.nn.max_pool(activated, ksize=max_pool_kernal_shape, strides=max_pool_stride_shape, padding=\"SAME\")\n",
    "    \n",
    "    return pooled\n",
    "\n",
    "\n",
    "\"\"\"\n",
    "BELOW THIS LINE IS A UNITTEST\n",
    "\"\"\"\n",
    "tests.test_con_pool(conv2d_maxpool)"
   ]
  },
  {
   "cell_type": "markdown",
   "metadata": {},
   "source": [
    "### Flatten Layer\n",
    "Implement the `flatten` function to change the dimension of `x_tensor` from a 4-D tensor to a 2-D tensor.  The output should be the shape (*Batch Size*, *Flattened Image Size*). Shortcut option: you can use classes from the [TensorFlow Layers](https://www.tensorflow.org/api_docs/python/tf/layers) or [TensorFlow Layers (contrib)](https://www.tensorflow.org/api_guides/python/contrib.layers) packages for this layer. For more of a challenge, only use other TensorFlow packages."
   ]
  },
  {
   "cell_type": "code",
   "execution_count": 24,
   "metadata": {},
   "outputs": [
    {
     "name": "stdout",
     "output_type": "stream",
     "text": [
      "Tests Passed\n"
     ]
    }
   ],
   "source": [
    "import numpy as np\n",
    "\n",
    "def flatten(x_tensor):\n",
    "    \"\"\"\n",
    "    Flatten x_tensor to (Batch Size, Flattened Image Size)\n",
    "    : x_tensor: A tensor of size (Batch Size, ...), where ... are the image dimensions.\n",
    "    : return: A tensor of size (Batch Size, Flattened Image Size).\n",
    "    \"\"\"\n",
    "    # TODO: Implement Function\n",
    "    #print(x_tensor)\n",
    "    shape = x_tensor.get_shape().as_list()\n",
    "    #print(shape)\n",
    "    flat = tf.reshape(x_tensor, [-1, shape[1]*shape[2]*shape[3]])\n",
    "    #print(flat)\n",
    "    \n",
    "    return flat\n",
    "\n",
    "\n",
    "\"\"\"\n",
    "BELOW THIS LINE IS A UNITTEST\n",
    "\"\"\"\n",
    "tests.test_flatten(flatten)"
   ]
  },
  {
   "cell_type": "markdown",
   "metadata": {},
   "source": [
    "### Fully-Connected Layer\n",
    "Implement the `fully_conn` function to apply a fully connected layer to `x_tensor` with the shape (*Batch Size*, *num_outputs*). Shortcut option: you can use classes from the [TensorFlow Layers](https://www.tensorflow.org/api_docs/python/tf/layers) or [TensorFlow Layers (contrib)](https://www.tensorflow.org/api_guides/python/contrib.layers) packages for this layer. For more of a challenge, only use other TensorFlow packages."
   ]
  },
  {
   "cell_type": "code",
   "execution_count": 25,
   "metadata": {},
   "outputs": [
    {
     "name": "stdout",
     "output_type": "stream",
     "text": [
      "Tests Passed\n"
     ]
    }
   ],
   "source": [
    "def fully_conn(x_tensor, num_outputs):\n",
    "    \"\"\"\n",
    "    Apply a fully connected layer to x_tensor using weight and bias\n",
    "    : x_tensor: A 2-D tensor where the first dimension is batch size.\n",
    "    : num_outputs: The number of output that the new tensor should be.\n",
    "    : return: A 2-D tensor where the second dimension is num_outputs.\n",
    "    \"\"\"\n",
    "    # TODO: Implement Function\n",
    "\n",
    "#     input_dims = x_tensor.get_shape().as_list()\n",
    "#     #print(input_dims)\n",
    "#     filter_shape = [input_dims[1], num_outputs]\n",
    "#     #print(filter_shape)\n",
    "#     std = math.sqrt( 2/ (filter_shape[0] * filter_shape[1]) ) #sqrt(2/(filterHeight*filterWidth #*filterDepth))\n",
    "#     weight = tf.Variable(tf.truncated_normal(filter_shape, stddev=std))\n",
    "#     #print(weight)\n",
    "#     bias = tf.Variable(tf.zeros(num_outputs))\n",
    "#     #print(bias)\n",
    "        \n",
    "#     fc1 = tf.nn.xw_plus_b(x_tensor, weights=weight, biases=bias)\n",
    "#     fc1 = tf.nn.relu(fc1)\n",
    "    \n",
    "    fc1 = tf.nn.relu(output(x_tensor, num_outputs))\n",
    "    \n",
    "    return fc1\n",
    "\n",
    "\n",
    "\"\"\"\n",
    "BELOW THIS LINE IS A UNITTEST\n",
    "\"\"\"\n",
    "tests.test_fully_conn(fully_conn)"
   ]
  },
  {
   "cell_type": "markdown",
   "metadata": {},
   "source": [
    "### Output Layer\n",
    "Implement the `output` function to apply a fully connected layer to `x_tensor` with the shape (*Batch Size*, *num_outputs*). Shortcut option: you can use classes from the [TensorFlow Layers](https://www.tensorflow.org/api_docs/python/tf/layers) or [TensorFlow Layers (contrib)](https://www.tensorflow.org/api_guides/python/contrib.layers) packages for this layer. For more of a challenge, only use other TensorFlow packages.\n",
    "\n",
    "**Note:** Activation, softmax, or cross entropy should **not** be applied to this."
   ]
  },
  {
   "cell_type": "code",
   "execution_count": 26,
   "metadata": {},
   "outputs": [
    {
     "name": "stdout",
     "output_type": "stream",
     "text": [
      "Tests Passed\n"
     ]
    }
   ],
   "source": [
    "def output(x_tensor, num_outputs):\n",
    "    \"\"\"\n",
    "    Apply an output layer to x_tensor using weight and bias\n",
    "    : x_tensor: A 2-D tensor where the first dimension is batch size.\n",
    "    : num_outputs: The number of output that the new tensor should be.\n",
    "    : return: A 2-D tensor where the second dimension is num_outputs.\n",
    "    \"\"\"\n",
    "    # TODO: Implement Function\n",
    "    input_dims = x_tensor.get_shape().as_list()\n",
    "    #print(input_dims)\n",
    "    filter_shape = [input_dims[1], num_outputs]\n",
    "    #print(filter_shape)\n",
    "    \n",
    "    std = math.sqrt( 2/ (filter_shape[0] * filter_shape[1]) ) #sqrt(2/(filterHeight*filterWidth #*filterDepth))    \n",
    "    \n",
    "    weight = tf.Variable(tf.truncated_normal(filter_shape, stddev=std))\n",
    "    #print(weight)\n",
    "    bias = tf.Variable(tf.zeros(num_outputs))\n",
    "    #print(bias)\n",
    "        \n",
    "    fc2 = tf.nn.xw_plus_b(x_tensor, weights=weight, biases=bias)\n",
    "    return fc2\n",
    "\n",
    "\n",
    "\"\"\"\n",
    "BELOW THIS LINE IS A UNITTEST\n",
    "\"\"\"\n",
    "tests.test_output(output)"
   ]
  },
  {
   "cell_type": "markdown",
   "metadata": {},
   "source": [
    "### Create Convolutional Model\n",
    "Implement the function `conv_net` to create a convolutional neural network model. The function takes in a batch of images, `x`, and outputs logits.  Use the layers you created above to create this model:\n",
    "\n",
    "* Apply 1, 2, or 3 Convolution and Max Pool layers\n",
    "* Apply a Flatten Layer\n",
    "* Apply 1, 2, or 3 Fully Connected Layers\n",
    "* Apply an Output Layer\n",
    "* Return the output\n",
    "* Apply [TensorFlow's Dropout](https://www.tensorflow.org/api_docs/python/tf/nn/dropout) to one or more layers in the model using `keep_prob`. "
   ]
  },
  {
   "cell_type": "code",
   "execution_count": 29,
   "metadata": {},
   "outputs": [
    {
     "name": "stdout",
     "output_type": "stream",
     "text": [
      "Neural Network Built!\n"
     ]
    }
   ],
   "source": [
    "def conv_net(x, keep_prob):\n",
    "    \"\"\"\n",
    "    Create a convolutional neural network model\n",
    "    : x: Placeholder tensor that holds image data.\n",
    "    : keep_prob: Placeholder tensor that hold dropout keep probability.\n",
    "    : return: Tensor that represents logits\n",
    "    \"\"\"\n",
    "    # TODO: Apply 1, 2, or 3 Convolution and Max Pool layers\n",
    "    #    Play around with different number of outputs, kernel size and stride\n",
    "    # Function Definition from Above:\n",
    "    #    conv2d_maxpool(x_tensor, conv_num_outputs, conv_ksize, conv_strides, pool_ksize, pool_strides)\n",
    "    \n",
    "    # conv_num_outputs,  10\n",
    "    # conv_kernal_size,  (3, 3)\n",
    "    # conv_strides    ,  (1, 1)\n",
    "    # pool_kernal_size,  (2, 2)\n",
    "    # pool_strides    ,  (2, 2)\n",
    "    \n",
    "    conv = conv2d_maxpool(x, conv_num_outputs=64, conv_ksize=(3,3), conv_strides=(1,1), pool_ksize=(2,2), pool_strides=(2,2))\n",
    "\n",
    "    conv = conv2d_maxpool(conv, conv_num_outputs=128, conv_ksize=(3,3), conv_strides=(1,1), pool_ksize=(2, 2), pool_strides=(2,2))\n",
    "\n",
    "    conv = conv2d_maxpool(conv, conv_num_outputs=256, conv_ksize=(3,3), conv_strides=(1,1), pool_ksize=(2, 2), pool_strides=(2,2))\n",
    "    \n",
    "    # TODO: Apply a Flatten Layer\n",
    "    # Function Definition from Above:\n",
    "    #   flatten(x_tensor)\n",
    "    \n",
    "    flattened = flatten(conv)\n",
    "\n",
    "    # TODO: Apply 1, 2, or 3 Fully Connected Layers\n",
    "    #    Play around with different number of outputs\n",
    "    # Function Definition from Above:\n",
    "    #   fully_conn(x_tensor, num_outputs)\n",
    "    \n",
    "#     fc = fully_conn(flattened, num_outputs=512)\n",
    "#     drop = tf.nn.dropout(fc, keep_prob)\n",
    "    fc = fully_conn(flattened, num_outputs=256)\n",
    "    drop = tf.nn.dropout(fc, keep_prob)\n",
    "    fc = fully_conn(drop, num_outputs=128)\n",
    "    drop = tf.nn.dropout(fc, keep_prob)\n",
    "    fc = fully_conn(drop, num_outputs=64)\n",
    "    \n",
    "    \n",
    "    # TODO: Apply an Output Layer\n",
    "    #    Set this to the number of classes\n",
    "    # Function Definition from Above:\n",
    "    #   output(x_tensor, num_outputs)\n",
    "    \n",
    "    logits = output(fc, num_outputs=10)\n",
    "    \n",
    "    # TODO: return output\n",
    "    return logits\n",
    "\n",
    "\n",
    "\"\"\"\n",
    "BELOW THIS LINE IS ARE UNITTESTS AND BUILDING THE NETWORK\n",
    "\"\"\"\n",
    "\n",
    "##############################\n",
    "## Build the Neural Network ##\n",
    "##############################\n",
    "\n",
    "# Remove previous weights, bias, inputs, etc..\n",
    "tf.reset_default_graph()\n",
    "\n",
    "# Inputs\n",
    "x = neural_net_image_input((32, 32, 3))\n",
    "y = neural_net_label_input(10)\n",
    "keep_prob = neural_net_keep_prob_input()\n",
    "\n",
    "# Model\n",
    "logits = conv_net(x, keep_prob)\n",
    "\n",
    "# Name logits Tensor, so that is can be loaded from disk after training\n",
    "logits = tf.identity(logits, name='logits')\n",
    "\n",
    "# Loss and Optimizer\n",
    "cost = tf.reduce_mean(tf.nn.softmax_cross_entropy_with_logits(logits=logits, labels=y))\n",
    "optimizer = tf.train.AdamOptimizer().minimize(cost)\n",
    "\n",
    "# Accuracy\n",
    "correct_pred = tf.equal(tf.argmax(logits, 1), tf.argmax(y, 1))\n",
    "accuracy = tf.reduce_mean(tf.cast(correct_pred, tf.float32), name='accuracy')\n",
    "\n",
    "tests.test_conv_net(conv_net)"
   ]
  },
  {
   "cell_type": "markdown",
   "metadata": {},
   "source": [
    "## Train the Neural Network\n",
    "### Single Optimization\n",
    "Implement the function `train_neural_network` to do a single optimization.  The optimization should use `optimizer` to optimize in `session` with a `feed_dict` of the following:\n",
    "* `x` for image input\n",
    "* `y` for labels\n",
    "* `keep_prob` for keep probability for dropout\n",
    "\n",
    "This function will be called for each batch, so `tf.global_variables_initializer()` has already been called.\n",
    "\n",
    "Note: Nothing needs to be returned. This function is only optimizing the neural network."
   ]
  },
  {
   "cell_type": "code",
   "execution_count": 30,
   "metadata": {},
   "outputs": [
    {
     "name": "stdout",
     "output_type": "stream",
     "text": [
      "Tests Passed\n"
     ]
    }
   ],
   "source": [
    "def train_neural_network(session, optimizer, keep_probability, feature_batch, label_batch):\n",
    "    \"\"\"\n",
    "    Optimize the session on a batch of images and labels\n",
    "    : session: Current TensorFlow session\n",
    "    : optimizer: TensorFlow optimizer function\n",
    "    : keep_probability: keep probability\n",
    "    : feature_batch: Batch of Numpy image data\n",
    "    : label_batch: Batch of Numpy label data\n",
    "    \"\"\"\n",
    "    # TODO: Implement Function\n",
    "    \n",
    "    session.run(optimizer, feed_dict={x:feature_batch, y:label_batch, keep_prob:keep_probability})\n",
    "    \n",
    "    return\n",
    "\n",
    "\n",
    "\"\"\"\n",
    "BELOW THIS LINE IS A UNITTEST\n",
    "\"\"\"\n",
    "tests.test_train_nn(train_neural_network)"
   ]
  },
  {
   "cell_type": "markdown",
   "metadata": {},
   "source": [
    "### Show Stats\n",
    "Implement the function `print_stats` to print loss and validation accuracy.  Use the global variables `valid_features` and `valid_labels` to calculate validation accuracy.  Use a keep probability of `1.0` to calculate the loss and validation accuracy."
   ]
  },
  {
   "cell_type": "code",
   "execution_count": 31,
   "metadata": {
    "collapsed": true
   },
   "outputs": [],
   "source": [
    "def print_stats(session, feature_batch, label_batch, cost, accuracy):\n",
    "    \"\"\"\n",
    "    Print information about loss and validation accuracy\n",
    "    : session: Current TensorFlow session\n",
    "    : feature_batch: Batch of Numpy image data\n",
    "    : label_batch: Batch of Numpy label data\n",
    "    : cost: TensorFlow cost function\n",
    "    : accuracy: TensorFlow accuracy function\n",
    "    \"\"\"\n",
    "    \n",
    "#     # Loss and Optimizer\n",
    "#     cost = tf.reduce_mean(tf.nn.softmax_cross_entropy_with_logits(logits=logits, labels=y))\n",
    "#     optimizer = tf.train.AdamOptimizer().minimize(cost)\n",
    "\n",
    "#     # Accuracy\n",
    "#     correct_pred = tf.equal(tf.argmax(logits, 1), tf.argmax(y, 1))\n",
    "#     accuracy = tf.reduce_mean(tf.cast(correct_pred, tf.float32), name='accuracy')\n",
    "    \n",
    "    \n",
    "    # TODO: Implement Function\n",
    "    \n",
    "    #loss = session.run(cost, feed_dict={x: valid_features, y:valid_labels, keep_prob: keep_probability})\n",
    "    #acc_ans = session.run(accuracy, feed_dict={x: feature_batch, y:label_batch,  keep_prob: keep_probability})\n",
    "\n",
    "    loss = session.run(cost, feed_dict={x: feature_batch, y:label_batch,  keep_prob: 1.00})\n",
    "    acc_ans = session.run(accuracy, feed_dict={x: valid_features, y:valid_labels, keep_prob: 1.00})\n",
    "    print(\"\")\n",
    "    print(\"cost/loss:  \", loss)\n",
    "    print(\"accuracy:   \", acc_ans)\n",
    "       \n",
    "    pass"
   ]
  },
  {
   "cell_type": "markdown",
   "metadata": {},
   "source": [
    "### Hyperparameters\n",
    "Tune the following parameters:\n",
    "* Set `epochs` to the number of iterations until the network stops learning or start overfitting\n",
    "* Set `batch_size` to the highest number that your machine has memory for.  Most people set them to common sizes of memory:\n",
    " * 64\n",
    " * 128\n",
    " * 256\n",
    " * ...\n",
    "* Set `keep_probability` to the probability of keeping a node using dropout"
   ]
  },
  {
   "cell_type": "code",
   "execution_count": 32,
   "metadata": {
    "collapsed": true
   },
   "outputs": [],
   "source": [
    "# TODO: Tune Parameters\n",
    "epochs = 10\n",
    "batch_size = 128\n",
    "keep_probability = 0.50"
   ]
  },
  {
   "cell_type": "markdown",
   "metadata": {},
   "source": [
    "### Train on a Single CIFAR-10 Batch\n",
    "Instead of training the neural network on all the CIFAR-10 batches of data, let's use a single batch. This should save time while you iterate on the model to get a better accuracy.  Once the final validation accuracy is 50% or greater, run the model on all the data in the next section."
   ]
  },
  {
   "cell_type": "code",
   "execution_count": 33,
   "metadata": {},
   "outputs": [
    {
     "name": "stdout",
     "output_type": "stream",
     "text": [
      "Checking the Training on a Single Batch...\n",
      "Epoch  1, CIFAR-10 Batch 1:  \n",
      "cost/loss:   2.16915\n",
      "accuracy:    0.239\n",
      "Epoch  2, CIFAR-10 Batch 1:  \n",
      "cost/loss:   2.03696\n",
      "accuracy:    0.3238\n",
      "Epoch  3, CIFAR-10 Batch 1:  \n",
      "cost/loss:   1.83798\n",
      "accuracy:    0.3906\n",
      "Epoch  4, CIFAR-10 Batch 1:  \n",
      "cost/loss:   1.68986\n",
      "accuracy:    0.423\n",
      "Epoch  5, CIFAR-10 Batch 1:  \n",
      "cost/loss:   1.42907\n",
      "accuracy:    0.4544\n",
      "Epoch  6, CIFAR-10 Batch 1:  \n",
      "cost/loss:   1.25807\n",
      "accuracy:    0.4784\n",
      "Epoch  7, CIFAR-10 Batch 1:  \n",
      "cost/loss:   1.18219\n",
      "accuracy:    0.5056\n",
      "Epoch  8, CIFAR-10 Batch 1:  \n",
      "cost/loss:   1.02412\n",
      "accuracy:    0.513\n",
      "Epoch  9, CIFAR-10 Batch 1:  \n",
      "cost/loss:   0.906715\n",
      "accuracy:    0.537\n",
      "Epoch 10, CIFAR-10 Batch 1:  \n",
      "cost/loss:   0.832384\n",
      "accuracy:    0.557\n"
     ]
    }
   ],
   "source": [
    "\"\"\"\n",
    "RUNNING THE NETWORK ON A SINGLE BATCH\n",
    "\"\"\"\n",
    "print('Checking the Training on a Single Batch...')\n",
    "with tf.Session() as sess:\n",
    "    # Initializing the variables\n",
    "    sess.run(tf.global_variables_initializer())\n",
    "    \n",
    "    # Training cycle\n",
    "    for epoch in range(epochs):\n",
    "        batch_i = 1\n",
    "        for batch_features, batch_labels in helper.load_preprocess_training_batch(batch_i, batch_size):\n",
    "            train_neural_network(sess, optimizer, keep_probability, batch_features, batch_labels)\n",
    "        print('Epoch {:>2}, CIFAR-10 Batch {}:  '.format(epoch + 1, batch_i), end='')\n",
    "        print_stats(sess, batch_features, batch_labels, cost, accuracy)"
   ]
  },
  {
   "cell_type": "markdown",
   "metadata": {},
   "source": [
    "### Fully Train the Model\n",
    "Now that you got a good accuracy with a single CIFAR-10 batch, try it with all five batches."
   ]
  },
  {
   "cell_type": "code",
   "execution_count": 34,
   "metadata": {},
   "outputs": [
    {
     "name": "stdout",
     "output_type": "stream",
     "text": [
      "Training...\n",
      "Epoch  1, CIFAR-10 Batch 1:  \n",
      "cost/loss:   2.17728\n",
      "accuracy:    0.2254\n",
      "Epoch  1, CIFAR-10 Batch 2:  \n",
      "cost/loss:   1.83632\n",
      "accuracy:    0.3238\n",
      "Epoch  1, CIFAR-10 Batch 3:  \n",
      "cost/loss:   1.53915\n",
      "accuracy:    0.3512\n",
      "Epoch  1, CIFAR-10 Batch 4:  \n",
      "cost/loss:   1.59054\n",
      "accuracy:    0.3938\n",
      "Epoch  1, CIFAR-10 Batch 5:  \n",
      "cost/loss:   1.5436\n",
      "accuracy:    0.441\n",
      "Epoch  2, CIFAR-10 Batch 1:  \n",
      "cost/loss:   1.53928\n",
      "accuracy:    0.453\n",
      "Epoch  2, CIFAR-10 Batch 2:  \n",
      "cost/loss:   1.47721\n",
      "accuracy:    0.4422\n",
      "Epoch  2, CIFAR-10 Batch 3:  \n",
      "cost/loss:   1.18822\n",
      "accuracy:    0.495\n",
      "Epoch  2, CIFAR-10 Batch 4:  \n",
      "cost/loss:   1.25765\n",
      "accuracy:    0.527\n",
      "Epoch  2, CIFAR-10 Batch 5:  \n",
      "cost/loss:   1.22222\n",
      "accuracy:    0.5302\n",
      "Epoch  3, CIFAR-10 Batch 1:  \n",
      "cost/loss:   1.18864\n",
      "accuracy:    0.5696\n",
      "Epoch  3, CIFAR-10 Batch 2:  \n",
      "cost/loss:   1.12504\n",
      "accuracy:    0.555\n",
      "Epoch  3, CIFAR-10 Batch 3:  \n",
      "cost/loss:   0.906145\n",
      "accuracy:    0.5742\n",
      "Epoch  3, CIFAR-10 Batch 4:  \n",
      "cost/loss:   1.07896\n",
      "accuracy:    0.5936\n",
      "Epoch  3, CIFAR-10 Batch 5:  \n",
      "cost/loss:   0.978711\n",
      "accuracy:    0.5998\n",
      "Epoch  4, CIFAR-10 Batch 1:  \n",
      "cost/loss:   0.905093\n",
      "accuracy:    0.6244\n",
      "Epoch  4, CIFAR-10 Batch 2:  \n",
      "cost/loss:   0.870166\n",
      "accuracy:    0.594\n",
      "Epoch  4, CIFAR-10 Batch 3:  \n",
      "cost/loss:   0.672317\n",
      "accuracy:    0.636\n",
      "Epoch  4, CIFAR-10 Batch 4:  \n",
      "cost/loss:   0.857814\n",
      "accuracy:    0.6082\n",
      "Epoch  4, CIFAR-10 Batch 5:  \n",
      "cost/loss:   0.764179\n",
      "accuracy:    0.636\n",
      "Epoch  5, CIFAR-10 Batch 1:  \n",
      "cost/loss:   0.717707\n",
      "accuracy:    0.6588\n",
      "Epoch  5, CIFAR-10 Batch 2:  \n",
      "cost/loss:   0.699\n",
      "accuracy:    0.6384\n",
      "Epoch  5, CIFAR-10 Batch 3:  \n",
      "cost/loss:   0.537721\n",
      "accuracy:    0.6616\n",
      "Epoch  5, CIFAR-10 Batch 4:  \n",
      "cost/loss:   0.609915\n",
      "accuracy:    0.668\n",
      "Epoch  5, CIFAR-10 Batch 5:  \n",
      "cost/loss:   0.653078\n",
      "accuracy:    0.6718\n",
      "Epoch  6, CIFAR-10 Batch 1:  \n",
      "cost/loss:   0.610061\n",
      "accuracy:    0.6776\n",
      "Epoch  6, CIFAR-10 Batch 2:  \n",
      "cost/loss:   0.626703\n",
      "accuracy:    0.6658\n",
      "Epoch  6, CIFAR-10 Batch 3:  \n",
      "cost/loss:   0.442411\n",
      "accuracy:    0.6916\n",
      "Epoch  6, CIFAR-10 Batch 4:  \n",
      "cost/loss:   0.555152\n",
      "accuracy:    0.6852\n",
      "Epoch  6, CIFAR-10 Batch 5:  \n",
      "cost/loss:   0.44605\n",
      "accuracy:    0.6812\n",
      "Epoch  7, CIFAR-10 Batch 1:  \n",
      "cost/loss:   0.495861\n",
      "accuracy:    0.698\n",
      "Epoch  7, CIFAR-10 Batch 2:  \n",
      "cost/loss:   0.447287\n",
      "accuracy:    0.6856\n",
      "Epoch  7, CIFAR-10 Batch 3:  \n",
      "cost/loss:   0.38387\n",
      "accuracy:    0.6892\n",
      "Epoch  7, CIFAR-10 Batch 4:  \n",
      "cost/loss:   0.470955\n",
      "accuracy:    0.6904\n",
      "Epoch  7, CIFAR-10 Batch 5:  \n",
      "cost/loss:   0.397727\n",
      "accuracy:    0.7016\n",
      "Epoch  8, CIFAR-10 Batch 1:  \n",
      "cost/loss:   0.382583\n",
      "accuracy:    0.7138\n",
      "Epoch  8, CIFAR-10 Batch 2:  \n",
      "cost/loss:   0.33029\n",
      "accuracy:    0.7022\n",
      "Epoch  8, CIFAR-10 Batch 3:  \n",
      "cost/loss:   0.283758\n",
      "accuracy:    0.7154\n",
      "Epoch  8, CIFAR-10 Batch 4:  \n",
      "cost/loss:   0.369988\n",
      "accuracy:    0.7148\n",
      "Epoch  8, CIFAR-10 Batch 5:  \n",
      "cost/loss:   0.311417\n",
      "accuracy:    0.7052\n",
      "Epoch  9, CIFAR-10 Batch 1:  \n",
      "cost/loss:   0.446851\n",
      "accuracy:    0.6884\n",
      "Epoch  9, CIFAR-10 Batch 2:  \n",
      "cost/loss:   0.285426\n",
      "accuracy:    0.7082\n",
      "Epoch  9, CIFAR-10 Batch 3:  \n",
      "cost/loss:   0.239992\n",
      "accuracy:    0.7152\n",
      "Epoch  9, CIFAR-10 Batch 4:  \n",
      "cost/loss:   0.304365\n",
      "accuracy:    0.7238\n",
      "Epoch  9, CIFAR-10 Batch 5:  \n",
      "cost/loss:   0.335792\n",
      "accuracy:    0.7044\n",
      "Epoch 10, CIFAR-10 Batch 1:  \n",
      "cost/loss:   0.295135\n",
      "accuracy:    0.7208\n",
      "Epoch 10, CIFAR-10 Batch 2:  \n",
      "cost/loss:   0.264373\n",
      "accuracy:    0.7238\n",
      "Epoch 10, CIFAR-10 Batch 3:  \n",
      "cost/loss:   0.22569\n",
      "accuracy:    0.7352\n",
      "Epoch 10, CIFAR-10 Batch 4:  \n",
      "cost/loss:   0.268223\n",
      "accuracy:    0.714\n",
      "Epoch 10, CIFAR-10 Batch 5:  \n",
      "cost/loss:   0.24866\n",
      "accuracy:    0.7172\n"
     ]
    }
   ],
   "source": [
    "\"\"\"\n",
    "RUNNING AND SAVING THE FULLLY TRAINED NETWORK\n",
    "\"\"\"\n",
    "save_model_path = './image_classification'\n",
    "\n",
    "print('Training...')\n",
    "with tf.Session() as sess:\n",
    "    # Initializing the variables\n",
    "    sess.run(tf.global_variables_initializer())\n",
    "    \n",
    "    # Training cycle\n",
    "    for epoch in range(epochs):\n",
    "        # Loop over all batches\n",
    "        n_batches = 5\n",
    "        for batch_i in range(1, n_batches + 1):\n",
    "            for batch_features, batch_labels in helper.load_preprocess_training_batch(batch_i, batch_size):\n",
    "                train_neural_network(sess, optimizer, keep_probability, batch_features, batch_labels)\n",
    "            print('Epoch {:>2}, CIFAR-10 Batch {}:  '.format(epoch + 1, batch_i), end='')\n",
    "            print_stats(sess, batch_features, batch_labels, cost, accuracy)\n",
    "            \n",
    "    # Save Model\n",
    "    saver = tf.train.Saver()\n",
    "    save_path = saver.save(sess, save_model_path)"
   ]
  },
  {
   "cell_type": "markdown",
   "metadata": {},
   "source": [
    "# Checkpoint\n",
    "The model has been saved to disk.\n",
    "## Test Model\n",
    "Test your model against the test dataset.  This will be your final accuracy. You should have an accuracy greater than 50%. If you don't, keep tweaking the model architecture and parameters."
   ]
  },
  {
   "cell_type": "code",
   "execution_count": 46,
   "metadata": {},
   "outputs": [
    {
     "name": "stdout",
     "output_type": "stream",
     "text": [
      "INFO:tensorflow:Restoring parameters from ./image_classification\n",
      "Testing Accuracy: 0.7167721518987342\n",
      "\n"
     ]
    },
    {
     "data": {
      "image/png": "[encoded data removed]",
      "text/plain": [
       "<matplotlib.figure.Figure at 0x154669b2da0>"
      ]
     },
     "metadata": {
      "image/png": {
       "height": 319,
       "width": 355
      }
     },
     "output_type": "display_data"
    }
   ],
   "source": [
    "\"\"\"\n",
    "DON'T MODIFY ANYTHING IN THIS CELL\n",
    "\"\"\"\n",
    "%matplotlib inline\n",
    "%config InlineBackend.figure_format = 'retina'\n",
    "\n",
    "import tensorflow as tf\n",
    "import pickle\n",
    "import helper\n",
    "import random\n",
    "\n",
    "# Set batch size if not already set\n",
    "try:\n",
    "    if batch_size:\n",
    "        pass\n",
    "except NameError:\n",
    "    batch_size = 64\n",
    "\n",
    "save_model_path = './image_classification'\n",
    "n_samples = 4\n",
    "top_n_predictions = 3\n",
    "\n",
    "def test_model():\n",
    "    \"\"\"\n",
    "    Test the saved model against the test dataset\n",
    "    \"\"\"\n",
    "\n",
    "    test_features, test_labels = pickle.load(open('preprocess_training.p', mode='rb'))\n",
    "    loaded_graph = tf.Graph()\n",
    "\n",
    "    with tf.Session(graph=loaded_graph) as sess:\n",
    "        # Load model\n",
    "        loader = tf.train.import_meta_graph(save_model_path + '.meta')\n",
    "        loader.restore(sess, save_model_path)\n",
    "\n",
    "        # Get Tensors from loaded model\n",
    "        loaded_x = loaded_graph.get_tensor_by_name('x:0')\n",
    "        loaded_y = loaded_graph.get_tensor_by_name('y:0')\n",
    "        loaded_keep_prob = loaded_graph.get_tensor_by_name('keep_prob:0')\n",
    "        loaded_logits = loaded_graph.get_tensor_by_name('logits:0')\n",
    "        loaded_acc = loaded_graph.get_tensor_by_name('accuracy:0')\n",
    "        \n",
    "        # Get accuracy in batches for memory limitations\n",
    "        test_batch_acc_total = 0\n",
    "        test_batch_count = 0\n",
    "        \n",
    "        for train_feature_batch, train_label_batch in helper.batch_features_labels(test_features, test_labels, batch_size):\n",
    "            test_batch_acc_total += sess.run(\n",
    "                loaded_acc,\n",
    "                feed_dict={loaded_x: train_feature_batch, loaded_y: train_label_batch, loaded_keep_prob: 1.0})\n",
    "            test_batch_count += 1\n",
    "\n",
    "        print('Testing Accuracy: {}\\n'.format(test_batch_acc_total/test_batch_count))\n",
    "\n",
    "        # Print Random Samples\n",
    "        random_test_features, random_test_labels = tuple(zip(*random.sample(list(zip(test_features, test_labels)), n_samples)))\n",
    "        random_test_predictions = sess.run(\n",
    "            tf.nn.top_k(tf.nn.softmax(loaded_logits), top_n_predictions),\n",
    "            feed_dict={loaded_x: random_test_features, loaded_y: random_test_labels, loaded_keep_prob: 1.0})\n",
    "        helper.display_image_predictions(random_test_features, random_test_labels, random_test_predictions)\n",
    "\n",
    "\n",
    "test_model()"
   ]
  },
  {
   "cell_type": "markdown",
   "metadata": {},
   "source": [
    "## Why 50-80% Accuracy?\n",
    "You might be wondering why you can't get an accuracy any higher. First things first, 50% isn't bad for a simple CNN.  Pure guessing would get you 10% accuracy. That's because there are many more techniques that can be applied to your model and we recemmond that once you are done with this project, you explore!\n",
    "\n",
    "## Submitting This Project\n",
    "When submitting this project, make sure to run all the cells before saving the notebook.  Save the notebook file as \"image_classification.ipynb\" and save it as a HTML file under \"File\" -> \"Download as\".  Include the \"helper.py\" and \"problem_unittests.py\" files in your submission."
   ]
  }
 ],
 "metadata": {
  "kernelspec": {
   "display_name": "Python 3",
   "language": "python",
   "name": "python3"
  },
  "language_info": {
   "codemirror_mode": {
    "name": "ipython",
    "version": 3
   },
   "file_extension": ".py",
   "mimetype": "text/x-python",
   "name": "python",
   "nbconvert_exporter": "python",
   "pygments_lexer": "ipython3",
   "version": "3.5.3"
  }
 },
 "nbformat": 4,
 "nbformat_minor": 1
}
